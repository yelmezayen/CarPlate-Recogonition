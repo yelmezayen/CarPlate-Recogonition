{
 "cells": [
  {
   "cell_type": "code",
   "execution_count": 1,
   "id": "3f1a5cdb-152f-4880-943e-d834d06a6a53",
   "metadata": {},
   "outputs": [
    {
     "name": "stdout",
     "output_type": "stream",
     "text": [
      "Successfully converted XML to CSV.\n"
     ]
    }
   ],
   "source": [
    "import os\n",
    "import glob\n",
    "import pandas as pd\n",
    "import xml.etree.ElementTree as ET\n",
    "\n",
    "def xml_to_csv(xml_folder):\n",
    "    labels_dict = {\n",
    "        'filepath': [],\n",
    "        'xmin': [],\n",
    "        'xmax': [],\n",
    "        'ymin': [],\n",
    "        'ymax': []\n",
    "    }\n",
    "\n",
    "    for xml_file in glob.glob(os.path.join(xml_folder, '*.xml')):\n",
    "        info = ET.parse(xml_file)\n",
    "        root = info.getroot()\n",
    "        member_object = root.find('object')\n",
    "        labels_info = member_object.find('bndbox')\n",
    "        xmin = int(labels_info.find('xmin').text)\n",
    "        xmax = int(labels_info.find('xmax').text)\n",
    "        ymin = int(labels_info.find('ymin').text)\n",
    "        ymax = int(labels_info.find('ymax').text)\n",
    "\n",
    "        labels_dict['filepath'].append(xml_file)\n",
    "        labels_dict['xmin'].append(xmin)\n",
    "        labels_dict['xmax'].append(xmax)\n",
    "        labels_dict['ymin'].append(ymin)\n",
    "        labels_dict['ymax'].append(ymax)\n",
    "\n",
    "    xml_df = pd.DataFrame(labels_dict)\n",
    "    return xml_df\n",
    "\n",
    "def main():\n",
    "    xml_folder = r\"C:\\Users\\Mostafa\\Desktop\\Project_Files\\1_Labeling\\images\"\n",
    "    output_csv = r\"C:\\Users\\Mostafa\\Desktop\\Project_Files\\1_Labeling\\annotations.csv\"\n",
    "    \n",
    "    xml_df = xml_to_csv(xml_folder)\n",
    "    xml_df.to_csv(output_csv, index=False)\n",
    "    print('Successfully converted XML to CSV.')\n",
    "\n",
    "if __name__ == '__main__':\n",
    "    main()\n"
   ]
  },
  {
   "cell_type": "code",
   "execution_count": null,
   "id": "b4610637-c4ee-47a1-a936-71355407dea1",
   "metadata": {},
   "outputs": [],
   "source": []
  }
 ],
 "metadata": {
  "kernelspec": {
   "display_name": "Python 3 (ipykernel)",
   "language": "python",
   "name": "python3"
  },
  "language_info": {
   "codemirror_mode": {
    "name": "ipython",
    "version": 3
   },
   "file_extension": ".py",
   "mimetype": "text/x-python",
   "name": "python",
   "nbconvert_exporter": "python",
   "pygments_lexer": "ipython3",
   "version": "3.11.7"
  }
 },
 "nbformat": 4,
 "nbformat_minor": 5
}
